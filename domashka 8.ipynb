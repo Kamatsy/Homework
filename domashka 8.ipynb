{
 "cells": [
  {
   "cell_type": "code",
   "execution_count": 3,
   "metadata": {},
   "outputs": [
    {
     "name": "stdout",
     "output_type": "stream",
     "text": [
      "Cats with hats: [1, 4, 9, 16, 25, 36, 49, 64, 81, 100]\n"
     ]
    }
   ],
   "source": [
    "def find_cats_with_hats(num_cats):\n",
    "    hats = [False] * num_cats \n",
    "\n",
    "    for round in range(1, 101): \n",
    "        for cat in range(1, num_cats + 1):\n",
    "            if cat % round == 0:\n",
    "                hats[cat - 1] = not hats[cat - 1] \n",
    "\n",
    "    cats_with_hats = [index + 1 for index, hat in enumerate(hats) if hat]\n",
    "    return cats_with_hats\n",
    "\n",
    "cats_with_hats = find_cats_with_hats(100)\n",
    "print(\"Cats with hats:\", cats_with_hats)\n"
   ]
  }
 ],
 "metadata": {
  "kernelspec": {
   "display_name": "Python 3",
   "language": "python",
   "name": "python3"
  },
  "language_info": {
   "codemirror_mode": {
    "name": "ipython",
    "version": 3
   },
   "file_extension": ".py",
   "mimetype": "text/x-python",
   "name": "python",
   "nbconvert_exporter": "python",
   "pygments_lexer": "ipython3",
   "version": "3.9.6"
  },
  "orig_nbformat": 4
 },
 "nbformat": 4,
 "nbformat_minor": 2
}
