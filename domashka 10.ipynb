{
 "cells": [
  {
   "cell_type": "code",
   "execution_count": 1,
   "metadata": {},
   "outputs": [],
   "source": [
    "import random\n",
    "\n",
    "for letter in range(ord('A'), ord('Z') + 1):\n",
    "    file_name = chr(letter) + '.txt'\n",
    "    random_number = random.randint(1, 100)\n",
    "    \n",
    "    with open(file_name, 'a') as file:\n",
    "        file.write(str(random_number) + '\\n')\n",
    "\n",
    "with open('summary.txt', 'w') as summary_file:\n",
    "    for letter in range(ord('A'), ord('Z') + 1):\n",
    "        file_name = chr(letter) + '.txt'\n",
    "        with open(file_name, 'r') as file:\n",
    "            number = file.readline().strip()\n",
    "            summary_file.write(file_name + ': ' + number + '\\n')\n"
   ]
  },
  {
   "cell_type": "code",
   "execution_count": 2,
   "metadata": {},
   "outputs": [],
   "source": [
    "content = '''Lorem ipsum dolor sit amet, consectetur adipiscing elit, sed do eiusmod tempor incididunt ut labore et dolore magna aliqua. Ut enim ad minim veniam, quis nostrud exercitation ullamco laboris nisi ut aliquip ex ea commodo consequat. Duis aute irure dolor in reprehenderit in voluptate velit esse cillum dolore eu fugiat nulla pariatur. Excepteur sint occaecat cupidatat non proident, sunt in culpa qui officia deserunt mollit anim id est laborum.'''\n",
    "\n",
    "with open('first_file.txt', 'w') as file:\n",
    "    file.write(content)\n",
    "\n",
    "with open('first_file.txt', 'r') as source_file:\n",
    "    source_content = source_file.read()\n",
    "\n",
    "uppercase_content = source_content.upper()\n",
    "\n",
    "with open('second_file.txt', 'w') as destination_file:\n",
    "    destination_file.write(uppercase_content)"
   ]
  },
  {
   "cell_type": "code",
   "execution_count": 4,
   "metadata": {},
   "outputs": [],
   "source": [
    "import csv\n",
    "import random\n",
    "\n",
    "players = []\n",
    "for i in range(5):\n",
    "    name = input(f\"Enter the name of player {i+1}: \")\n",
    "    players.append(name)\n",
    "\n",
    "player_scores = []\n",
    "for player in players:\n",
    "    for _ in range(100):\n",
    "        score = random.randint(0, 1000)\n",
    "        player_scores.append((player, score))\n",
    "\n",
    "with open('scores.csv', 'w', newline='') as csv_file:\n",
    "    writer = csv.writer(csv_file)\n",
    "    writer.writerow(['Player name', 'Score'])\n",
    "    writer.writerows(player_scores)\n"
   ]
  },
  {
   "cell_type": "code",
   "execution_count": 5,
   "metadata": {},
   "outputs": [],
   "source": [
    "import csv\n",
    "\n",
    "player_scores = []\n",
    "with open('scores.csv', 'r') as csv_file:\n",
    "    reader = csv.reader(csv_file)\n",
    "    next(reader)\n",
    "    for row in reader:\n",
    "        player_name = row[0]\n",
    "        score = int(row[1])\n",
    "        player_scores.append((player_name, score))\n",
    "highest_scores = {}\n",
    "for player, score in player_scores:\n",
    "    if player in highest_scores:\n",
    "        if score > highest_scores[player]:\n",
    "            highest_scores[player] = score\n",
    "    else:\n",
    "        highest_scores[player] = score\n",
    "\n",
    "sorted_scores = sorted(highest_scores.items(), key=lambda x: x[1], reverse=True)\n",
    "\n",
    "with open('high_scores.csv', 'w', newline='') as csv_file:\n",
    "    writer = csv.writer(csv_file)\n",
    "    writer.writerow(['Player name', 'Highest score'])\n",
    "    writer.writerows(sorted_scores)\n"
   ]
  }
 ],
 "metadata": {
  "kernelspec": {
   "display_name": "Python 3",
   "language": "python",
   "name": "python3"
  },
  "language_info": {
   "codemirror_mode": {
    "name": "ipython",
    "version": 3
   },
   "file_extension": ".py",
   "mimetype": "text/x-python",
   "name": "python",
   "nbconvert_exporter": "python",
   "pygments_lexer": "ipython3",
   "version": "3.9.6"
  },
  "orig_nbformat": 4
 },
 "nbformat": 4,
 "nbformat_minor": 2
}
