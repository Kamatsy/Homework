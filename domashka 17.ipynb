{
 "cells": [
  {
   "cell_type": "code",
   "execution_count": 9,
   "metadata": {},
   "outputs": [
    {
     "name": "stderr",
     "output_type": "stream",
     "text": [
      "C:\\Users\\Artem.Khavroniuk\\AppData\\Local\\Temp\\ipykernel_17644\\536206171.py:5: MovedIn20Warning: The ``declarative_base()`` function is now available as sqlalchemy.orm.declarative_base(). (deprecated since: 2.0) (Background on SQLAlchemy 2.0 at: https://sqlalche.me/e/b8d9)\n",
      "  Base = declarative_base()\n",
      "C:\\Users\\Artem.Khavroniuk\\AppData\\Local\\Temp\\ipykernel_17644\\536206171.py:33: SAWarning: relationship 'Student.student_subject' will copy column students.id to column student_subject.student_id, which conflicts with relationship(s): 'Student.subjects' (copies students.id to student_subject.student_id), 'Subject.students' (copies students.id to student_subject.student_id). If this is not the intention, consider if these relationships should be linked with back_populates, or if viewonly=True should be applied to one or more if they are read-only. For the less common case that foreign key constraints are partially overlapping, the orm.foreign() annotation can be used to isolate the columns that should be written towards.   To silence this warning, add the parameter 'overlaps=\"students,subjects\"' to the 'Student.student_subject' relationship. (Background on this warning at: https://sqlalche.me/e/20/qzyx) (This warning originated from the `configure_mappers()` process, which was invoked automatically in response to a user-initiated operation.)\n",
      "  student1 = Student(name='Art')\n",
      "C:\\Users\\Artem.Khavroniuk\\AppData\\Local\\Temp\\ipykernel_17644\\536206171.py:33: SAWarning: relationship 'Student_Subject.student' will copy column students.id to column student_subject.student_id, which conflicts with relationship(s): 'Student.subjects' (copies students.id to student_subject.student_id), 'Subject.students' (copies students.id to student_subject.student_id). If this is not the intention, consider if these relationships should be linked with back_populates, or if viewonly=True should be applied to one or more if they are read-only. For the less common case that foreign key constraints are partially overlapping, the orm.foreign() annotation can be used to isolate the columns that should be written towards.   To silence this warning, add the parameter 'overlaps=\"students,subjects\"' to the 'Student_Subject.student' relationship. (Background on this warning at: https://sqlalche.me/e/20/qzyx) (This warning originated from the `configure_mappers()` process, which was invoked automatically in response to a user-initiated operation.)\n",
      "  student1 = Student(name='Art')\n",
      "C:\\Users\\Artem.Khavroniuk\\AppData\\Local\\Temp\\ipykernel_17644\\536206171.py:33: SAWarning: relationship 'Subject.student_subject' will copy column subjects.id to column student_subject.subject_id, which conflicts with relationship(s): 'Student.subjects' (copies subjects.id to student_subject.subject_id), 'Subject.students' (copies subjects.id to student_subject.subject_id). If this is not the intention, consider if these relationships should be linked with back_populates, or if viewonly=True should be applied to one or more if they are read-only. For the less common case that foreign key constraints are partially overlapping, the orm.foreign() annotation can be used to isolate the columns that should be written towards.   To silence this warning, add the parameter 'overlaps=\"students,subjects\"' to the 'Subject.student_subject' relationship. (Background on this warning at: https://sqlalche.me/e/20/qzyx) (This warning originated from the `configure_mappers()` process, which was invoked automatically in response to a user-initiated operation.)\n",
      "  student1 = Student(name='Art')\n",
      "C:\\Users\\Artem.Khavroniuk\\AppData\\Local\\Temp\\ipykernel_17644\\536206171.py:33: SAWarning: relationship 'Student_Subject.subject' will copy column subjects.id to column student_subject.subject_id, which conflicts with relationship(s): 'Student.subjects' (copies subjects.id to student_subject.subject_id), 'Subject.students' (copies subjects.id to student_subject.subject_id). If this is not the intention, consider if these relationships should be linked with back_populates, or if viewonly=True should be applied to one or more if they are read-only. For the less common case that foreign key constraints are partially overlapping, the orm.foreign() annotation can be used to isolate the columns that should be written towards.   To silence this warning, add the parameter 'overlaps=\"students,subjects\"' to the 'Student_Subject.subject' relationship. (Background on this warning at: https://sqlalche.me/e/20/qzyx) (This warning originated from the `configure_mappers()` process, which was invoked automatically in response to a user-initiated operation.)\n",
      "  student1 = Student(name='Art')\n"
     ]
    }
   ],
   "source": [
    "from sqlalchemy import create_engine, Column, Integer, String, ForeignKey\n",
    "from sqlalchemy.ext.declarative import declarative_base\n",
    "from sqlalchemy.orm import relationship, sessionmaker\n",
    "\n",
    "Base = declarative_base()\n",
    "\n",
    "class Student(Base):\n",
    "    __tablename__ = 'students'\n",
    "    id = Column(Integer, primary_key=True)\n",
    "    name = Column(String)\n",
    "    subjects = relationship('Subject', secondary='student_subject', back_populates='students')\n",
    "\n",
    "class Subject(Base):\n",
    "    __tablename__ = 'subjects'\n",
    "    id = Column(Integer, primary_key=True)\n",
    "    name = Column(String)\n",
    "    students = relationship('Student', secondary='student_subject', back_populates='subjects')\n",
    "\n",
    "class Student_Subject(Base):\n",
    "    __tablename__ = 'student_subject'\n",
    "    student_id = Column(Integer, ForeignKey('students.id'), primary_key=True)\n",
    "    subject_id = Column(Integer, ForeignKey('subjects.id'), primary_key=True)\n",
    "\n",
    "    student = relationship('Student', backref='student_subject')\n",
    "    subject = relationship('Subject', backref='student_subject')\n",
    "\n",
    "engine = create_engine('sqlite:///school.db')\n",
    "Base.metadata.create_all(engine)\n",
    "\n",
    "Session = sessionmaker(bind=engine)\n",
    "session = Session()\n",
    "\n",
    "student1 = Student(name='Art')\n",
    "student2 = Student(name='Karl')\n",
    "student3 = Student(name='Shtrih')\n",
    "\n",
    "subject1 = Subject(name='Math')\n",
    "subject2 = Subject(name='Science')\n",
    "subject3 = Subject(name='English')\n",
    "\n",
    "session.add_all([student1, student2, student3, subject1, subject2, subject3])\n",
    "session.commit()\n",
    "\n",
    "student_subject1 = Student_Subject(student=student1, subject=subject1)\n",
    "student_subject2 = Student_Subject(student=student2, subject=subject3)\n",
    "student_subject3 = Student_Subject(student=student3, subject=subject2)\n",
    "\n",
    "session.add_all([student_subject1, student_subject2, student_subject3])\n",
    "session.commit()\n"
   ]
  },
  {
   "cell_type": "code",
   "execution_count": 10,
   "metadata": {},
   "outputs": [
    {
     "name": "stdout",
     "output_type": "stream",
     "text": [
      "['Karl', 'Karl']\n"
     ]
    }
   ],
   "source": [
    "students_in_english = session.query(Student).join(Student_Subject).join(Subject).filter(Subject.name == 'English').all()\n",
    "students_names_in_english = [student.name for student in students_in_english]\n",
    "print(students_names_in_english)\n"
   ]
  }
 ],
 "metadata": {
  "interpreter": {
   "hash": "3067ead486e059ec00ffe7555bdb889e6e264a24dc711bf108106cc7baee8d5d"
  },
  "kernelspec": {
   "display_name": "Python 3.7.3 ('base')",
   "language": "python",
   "name": "python3"
  },
  "language_info": {
   "codemirror_mode": {
    "name": "ipython",
    "version": 3
   },
   "file_extension": ".py",
   "mimetype": "text/x-python",
   "name": "python",
   "nbconvert_exporter": "python",
   "pygments_lexer": "ipython3",
   "version": "3.9.6"
  },
  "orig_nbformat": 4
 },
 "nbformat": 4,
 "nbformat_minor": 2
}
