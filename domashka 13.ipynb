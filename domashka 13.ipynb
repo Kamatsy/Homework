{
 "cells": [
  {
   "cell_type": "code",
   "execution_count": 2,
   "metadata": {},
   "outputs": [
    {
     "name": "stdout",
     "output_type": "stream",
     "text": [
      "15000000\n",
      "Bosnia Herzegovina\n"
     ]
    }
   ],
   "source": [
    "class Country:\n",
    "    def __init__(self, name, population):\n",
    "        self.name = name\n",
    "        self.population = population\n",
    "\n",
    "    def add(self, other_country):\n",
    "        combined_name = self.name + ' ' + other_country.name\n",
    "        combined_population = self.population + other_country.population\n",
    "        return Country(combined_name, combined_population)\n",
    "\n",
    "# Test the implementation\n",
    "bosnia = Country('Bosnia', 10000000)\n",
    "herzegovina = Country('Herzegovina', 5000000)\n",
    "bosnia_herzegovina = bosnia.add(herzegovina)\n",
    "\n",
    "print(bosnia_herzegovina.population)\n",
    "print(bosnia_herzegovina.name)\n"
   ]
  },
  {
   "cell_type": "code",
   "execution_count": 3,
   "metadata": {},
   "outputs": [
    {
     "name": "stdout",
     "output_type": "stream",
     "text": [
      "15000000\n",
      "Bosnia Herzegovina\n"
     ]
    }
   ],
   "source": [
    "class Country:\n",
    "    def __init__(self, name, population):\n",
    "        self.name = name\n",
    "        self.population = population\n",
    "\n",
    "    def __add__(self, other_country):\n",
    "        combined_name = self.name + ' ' + other_country.name\n",
    "        combined_population = self.population + other_country.population\n",
    "        return Country(combined_name, combined_population)\n",
    "\n",
    "bosnia = Country('Bosnia', 10000000)\n",
    "herzegovina = Country('Herzegovina', 5000000)\n",
    "bosnia_herzegovina = bosnia + herzegovina\n",
    "\n",
    "print(bosnia_herzegovina.population) \n",
    "print(bosnia_herzegovina.name)  \n"
   ]
  },
  {
   "cell_type": "code",
   "execution_count": 4,
   "metadata": {},
   "outputs": [
    {
     "name": "stdout",
     "output_type": "stream",
     "text": [
      "The current speed of the Toyota Camry is 5 km/h.\n",
      "The current speed of the Toyota Camry is 10 km/h.\n",
      "The current speed of the Toyota Camry is 5 km/h.\n",
      "The current speed of the Toyota Camry is 0 km/h.\n"
     ]
    }
   ],
   "source": [
    "class Car:\n",
    "    def __init__(self, brand, model, year):\n",
    "        self.brand = brand\n",
    "        self.model = model\n",
    "        self.year = year\n",
    "        self.speed = 0\n",
    "\n",
    "    def accelerate(self):\n",
    "        self.speed += 5\n",
    "\n",
    "    def brake(self):\n",
    "        self.speed -= 5\n",
    "        if self.speed < 0:\n",
    "            self.speed = 0\n",
    "\n",
    "    def display_speed(self):\n",
    "        print(f\"The current speed of the {self.brand} {self.model} is {self.speed} km/h.\")\n",
    "\n",
    "# Test the Car class\n",
    "car = Car('Toyota', 'Camry', 2022)\n",
    "\n",
    "car.accelerate()\n",
    "car.display_speed()\n",
    "\n",
    "car.accelerate()\n",
    "car.display_speed() \n",
    "\n",
    "car.brake()\n",
    "car.display_speed()\n",
    "\n",
    "car.brake()\n",
    "car.display_speed()\n"
   ]
  }
 ],
 "metadata": {
  "interpreter": {
   "hash": "3067ead486e059ec00ffe7555bdb889e6e264a24dc711bf108106cc7baee8d5d"
  },
  "kernelspec": {
   "display_name": "Python 3.7.3 ('base')",
   "language": "python",
   "name": "python3"
  },
  "language_info": {
   "codemirror_mode": {
    "name": "ipython",
    "version": 3
   },
   "file_extension": ".py",
   "mimetype": "text/x-python",
   "name": "python",
   "nbconvert_exporter": "python",
   "pygments_lexer": "ipython3",
   "version": "3.9.6"
  },
  "orig_nbformat": 4
 },
 "nbformat": 4,
 "nbformat_minor": 2
}
