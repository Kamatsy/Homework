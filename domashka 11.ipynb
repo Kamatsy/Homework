{
 "cells": [
  {
   "cell_type": "code",
   "execution_count": 4,
   "metadata": {},
   "outputs": [
    {
     "name": "stdout",
     "output_type": "stream",
     "text": [
      "https://media0.giphy.com/media/3o7527pa7qs9kCG78A/giphy.gif?cid=3d1b53cemk8mpu5jtbrl35ck4w988zjrl3zh41niecp3jk0a&ep=v1_gifs_search&rid=giphy.gif&ct=g\n",
      "https://media0.giphy.com/media/4Zo41lhzKt6iZ8xff9/giphy.gif?cid=3d1b53cemk8mpu5jtbrl35ck4w988zjrl3zh41niecp3jk0a&ep=v1_gifs_search&rid=giphy.gif&ct=g\n",
      "https://media2.giphy.com/media/gFW9rRpOkMRBY2KF6s/giphy.gif?cid=3d1b53cemk8mpu5jtbrl35ck4w988zjrl3zh41niecp3jk0a&ep=v1_gifs_search&rid=giphy.gif&ct=g\n",
      "https://media2.giphy.com/media/iDJQRjTCenF7A4BRyU/giphy.gif?cid=3d1b53cemk8mpu5jtbrl35ck4w988zjrl3zh41niecp3jk0a&ep=v1_gifs_search&rid=giphy.gif&ct=g\n",
      "https://media1.giphy.com/media/kiBcwEXegBTACmVOnE/giphy.gif?cid=3d1b53cemk8mpu5jtbrl35ck4w988zjrl3zh41niecp3jk0a&ep=v1_gifs_search&rid=giphy.gif&ct=g\n"
     ]
    }
   ],
   "source": [
    "import requests\n",
    "\n",
    "API_KEY = \"FSw25rmxwd8kpFQkTMKVJTy1yVZxQ1gT\"\n",
    "\n",
    "def search_gifs(query):\n",
    "    url = f\"https://api.giphy.com/v1/gifs/search\"\n",
    "    params = {\n",
    "        \"api_key\": API_KEY,\n",
    "        \"q\": query,\n",
    "        \"limit\": 1\n",
    "    }\n",
    "\n",
    "    response = requests.get(url, params=params)\n",
    "    data = response.json()\n",
    "\n",
    "    if response.status_code == 200:\n",
    "        if data.get(\"data\"):\n",
    "            for gif in data[\"data\"]:\n",
    "                gif_url = gif[\"images\"][\"original\"][\"url\"]\n",
    "                print(gif_url)\n",
    "        else:\n",
    "            print(\"No GIFs found for the search term.\")\n",
    "    else:\n",
    "        error_message = data.get(\"message\", \"Unknown error occurred.\")\n",
    "        print(f\"Error occurred: {error_message}\")\n",
    "\n",
    "def main():\n",
    "    search_word = input(\"Enter a search word: \")\n",
    "    search_gifs(search_word)\n",
    "\n",
    "if __name__ == \"__main__\":\n",
    "    main()\n"
   ]
  }
 ],
 "metadata": {
  "interpreter": {
   "hash": "3067ead486e059ec00ffe7555bdb889e6e264a24dc711bf108106cc7baee8d5d"
  },
  "kernelspec": {
   "display_name": "Python 3.7.3 ('base')",
   "language": "python",
   "name": "python3"
  },
  "language_info": {
   "codemirror_mode": {
    "name": "ipython",
    "version": 3
   },
   "file_extension": ".py",
   "mimetype": "text/x-python",
   "name": "python",
   "nbconvert_exporter": "python",
   "pygments_lexer": "ipython3",
   "version": "3.9.6"
  },
  "orig_nbformat": 4
 },
 "nbformat": 4,
 "nbformat_minor": 2
}
