{
 "cells": [
  {
   "cell_type": "code",
   "execution_count": 6,
   "metadata": {},
   "outputs": [
    {
     "name": "stdout",
     "output_type": "stream",
     "text": [
      "25\n",
      "Requested quantity not available\n",
      "Requested quantity not available\n",
      "Book Name: Python Programming\n",
      "Author: John Doe\n",
      "Price: $29.99\n",
      "Quantity: 50\n"
     ]
    }
   ],
   "source": []
  },
  {
   "cell_type": "code",
   "execution_count": 12,
   "metadata": {},
   "outputs": [
    {
     "name": "stdout",
     "output_type": "stream",
     "text": [
      "25\n",
      "Requested quantity not available\n",
      "Requested quantity not available\n"
     ]
    }
   ],
   "source": [
    "class Restaurant:\n",
    "    def __init__(self, name, cuisine, menu):\n",
    "        self.name = name\n",
    "        self.cuisine = cuisine\n",
    "        self.menu = menu\n",
    "\n",
    "class FastFood(Restaurant):\n",
    "    def __init__(self, name, cuisine, menu, drive_thru):\n",
    "        super().__init__(name, cuisine, menu)\n",
    "        self.drive_thru = drive_thru\n",
    "\n",
    "    def order(self, dish_name, quantity):\n",
    "        if dish_name not in self.menu or quantity <= 0:\n",
    "            return \"Requested quantity not available\"\n",
    "        \n",
    "        available_quantity = self.menu[dish_name]['quantity']\n",
    "        if quantity > available_quantity:\n",
    "            return \"Requested quantity not available\"\n",
    "\n",
    "        total_cost = self.menu[dish_name]['price'] * quantity\n",
    "        self.menu[dish_name]['quantity'] -= quantity\n",
    "        return total_cost\n",
    "\n",
    "menu = {\n",
    "    'burger': {'price': 5, 'quantity': 10},\n",
    "    'pizza': {'price': 15, 'quantity': 20},\n",
    "    'drink': {'price': 1, 'quantity': 15}\n",
    "}\n",
    "\n",
    "mc = FastFood('McDonalds', 'Fast Food', menu, True)\n",
    "\n",
    "print(mc.order('burger', 5)) \n",
    "print(mc.order('burger', 15)) \n",
    "print(mc.order('soup', 5)) \n"
   ]
  }
 ],
 "metadata": {
  "interpreter": {
   "hash": "3067ead486e059ec00ffe7555bdb889e6e264a24dc711bf108106cc7baee8d5d"
  },
  "kernelspec": {
   "display_name": "Python 3.7.3 ('base')",
   "language": "python",
   "name": "python3"
  },
  "language_info": {
   "codemirror_mode": {
    "name": "ipython",
    "version": 3
   },
   "file_extension": ".py",
   "mimetype": "text/x-python",
   "name": "python",
   "nbconvert_exporter": "python",
   "pygments_lexer": "ipython3",
   "version": "3.9.6"
  },
  "orig_nbformat": 4
 },
 "nbformat": 4,
 "nbformat_minor": 2
}
